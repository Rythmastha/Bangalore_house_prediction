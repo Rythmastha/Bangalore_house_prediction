{
 "cells": [
  {
   "cell_type": "code",
   "execution_count": 8,
   "id": "8a4daf05",
   "metadata": {},
   "outputs": [
    {
     "name": "stdout",
     "output_type": "stream",
     "text": [
      "Package                       Version      Latest       Type"
     ]
    },
    {
     "name": "stderr",
     "output_type": "stream",
     "text": [
      "WARNING: No metadata found in c:\\users\\astha jha\\appdata\\roaming\\python\\python310\\site-packages\n",
      "WARNING: No metadata found in c:\\users\\astha jha\\appdata\\roaming\\python\\python310\\site-packages\n"
     ]
    },
    {
     "name": "stdout",
     "output_type": "stream",
     "text": [
      "\n",
      "----------------------------- ------------ ------------ -----\n",
      "alabaster                     0.7.12       0.7.13       wheel\n",
      "anyio                         3.5.0        4.0.0        wheel\n",
      "argon2-cffi                   21.3.0       23.1.0       wheel\n",
      "astroid                       2.14.2       2.15.6       wheel\n",
      "astropy                       5.1          5.3.2        wheel\n",
      "asttokens                     2.0.5        2.4.0        wheel\n",
      "atomicwrites                  1.4.0        1.4.1        sdist\n",
      "attrs                         22.1.0       23.1.0       wheel\n",
      "audioread                     2.1.9        3.0.0        sdist\n",
      "Automat                       20.2.0       22.10.0      wheel\n",
      "autopep8                      1.6.0        2.0.4        wheel\n",
      "Babel                         2.11.0       2.12.1       wheel\n",
      "backports.functools-lru-cache 1.6.4        1.6.6        wheel\n",
      "bcrypt                        3.2.0        4.0.1        wheel\n",
      "beautifulsoup4                4.11.1       4.12.2       wheel\n",
      "black                         22.6.0       23.7.0       wheel\n",
      "bleach                        4.1.0        6.0.0        wheel\n",
      "bokeh                         2.4.3        3.2.2        wheel\n",
      "Bottleneck                    1.3.5        1.3.7        wheel\n",
      "certifi                       2022.6.15    2023.7.22    wheel\n",
      "chardet                       4.0.0        5.2.0        wheel\n",
      "charset-normalizer            2.1.0        3.2.0        wheel\n",
      "click                         8.0.4        8.1.7        wheel\n",
      "cloudpickle                   2.0.0        2.2.1        wheel\n",
      "comm                          0.1.2        0.1.4        wheel\n",
      "conda-pack                    0.6.0        0.7.1        wheel\n",
      "conda-package-handling        2.0.2        2.2.0        wheel\n",
      "conda_package_streaming       0.7.0        0.9.0        wheel\n",
      "contourpy                     1.0.5        1.1.0        wheel\n",
      "cookiecutter                  1.7.3        2.3.0        wheel\n",
      "cryptography                  39.0.1       41.0.3       wheel\n",
      "cssselect                     1.1.0        1.2.0        wheel\n",
      "cytoolz                       0.12.0       0.12.2       wheel\n",
      "daal4py                       2023.0.2     2023.2.1     wheel\n",
      "dask                          2022.7.0     2023.9.0     wheel\n",
      "datashader                    0.14.4       0.15.2       wheel\n",
      "debugpy                       1.5.1        1.6.7.post1  wheel\n",
      "diff-match-patch              20200713     20230430     wheel\n",
      "dill                          0.3.6        0.3.7        wheel\n",
      "distributed                   2022.7.0     2023.9.0     wheel\n",
      "docstring-to-markdown         0.11         0.12         wheel\n",
      "docutils                      0.18.1       0.20.1       wheel\n",
      "executing                     0.8.3        1.2.0        wheel\n",
      "fastjsonschema                2.16.2       2.18.0       wheel\n",
      "filelock                      3.9.0        3.12.3       wheel\n",
      "flake8                        6.0.0        6.1.0        wheel\n",
      "Flask                         2.2.2        2.3.3        wheel\n",
      "flit_core                     3.6.0        3.9.0        wheel\n",
      "fonttools                     4.25.0       4.42.1       wheel\n",
      "fsspec                        2022.11.0    2023.9.0     wheel\n",
      "gensim                        4.3.0        4.3.2        wheel\n",
      "greenlet                      2.0.1        2.0.2        wheel\n",
      "h5py                          3.7.0        3.9.0        wheel\n",
      "holoviews                     1.15.4       1.17.1       wheel\n",
      "huggingface-hub               0.10.1       0.16.4       wheel\n",
      "hvplot                        0.8.2        0.8.4        wheel\n",
      "idna                          3.3          3.4          wheel\n",
      "imagecodecs                   2021.8.26    2023.9.4     wheel\n",
      "imageio                       2.26.0       2.31.3       wheel\n",
      "imbalanced-learn              0.10.1       0.11.0       wheel\n",
      "importlib-metadata            4.11.3       6.8.0        wheel\n",
      "incremental                   21.3.0       22.10.0      wheel\n",
      "iniconfig                     1.1.1        2.0.0        wheel\n",
      "intake                        0.6.7        0.7.0        wheel\n",
      "ipykernel                     6.19.2       6.25.2       wheel\n",
      "ipython                       8.10.0       8.15.0       wheel\n",
      "ipywidgets                    7.6.5        8.1.0        wheel\n",
      "isort                         5.9.3        5.12.0       wheel\n",
      "itemadapter                   0.3.0        0.8.0        wheel\n",
      "itemloaders                   1.0.4        1.1.0        wheel\n",
      "itsdangerous                  2.0.1        2.1.2        wheel\n",
      "jedi                          0.18.1       0.19.0       wheel\n",
      "jellyfish                     0.9.0        1.0.0        wheel\n",
      "jmespath                      0.10.0       1.0.1        wheel\n",
      "joblib                        1.1.0        1.3.2        wheel\n",
      "json5                         0.9.6        0.9.14       wheel\n",
      "jsonpatch                     1.32         1.33         wheel\n",
      "jsonpointer                   2.1          2.4          wheel\n",
      "jsonschema                    4.17.3       4.19.0       wheel\n",
      "jupyter_client                7.3.4        8.3.1        wheel\n",
      "jupyter-console               6.6.2        6.6.3        wheel\n",
      "jupyter_core                  5.2.0        5.3.1        wheel\n",
      "jupyter-server                1.23.4       2.7.3        wheel\n",
      "jupyterlab                    3.5.3        4.0.5        wheel\n",
      "jupyterlab-pygments           0.1.2        0.2.2        wheel\n",
      "jupyterlab_server             2.19.0       2.24.0       wheel\n",
      "jupyterlab-widgets            1.0.0        3.0.8        wheel\n",
      "keyring                       23.4.0       24.2.0       wheel\n",
      "kiwisolver                    1.4.4        1.4.5        wheel\n",
      "lazy-object-proxy             1.6.0        1.9.0        wheel\n",
      "libarchive-c                  2.9          5.0          wheel\n",
      "librosa                       0.9.2        0.10.1       wheel\n",
      "llvmlite                      0.39.0       0.40.1       wheel\n",
      "lxml                          4.9.1        4.9.3        wheel\n",
      "lz4                           3.1.3        4.3.2        wheel\n",
      "Markdown                      3.4.1        3.4.4        wheel\n",
      "MarkupSafe                    2.1.1        2.1.3        wheel\n",
      "matplotlib                    3.7.0        3.7.2        wheel\n",
      "mistune                       0.8.4        3.0.1        wheel\n",
      "mkl-fft                       1.3.1        1.3.6        wheel\n",
      "mock                          4.0.3        5.1.0        wheel\n",
      "mpmath                        1.2.1        1.3.0        wheel\n",
      "msgpack                       1.0.3        1.0.5        wheel\n",
      "multipledispatch              0.6.0        1.0.0        wheel\n",
      "mypy-extensions               0.4.3        1.0.0        wheel\n",
      "nbclassic                     0.5.2        1.0.0        wheel\n",
      "nbclient                      0.5.13       0.8.0        wheel\n",
      "nbconvert                     6.5.4        7.8.0        wheel\n",
      "nbformat                      5.7.0        5.9.2        wheel\n",
      "nest-asyncio                  1.5.6        1.5.7        wheel\n",
      "networkx                      2.8.4        3.1          wheel\n",
      "nltk                          3.7          3.8.1        wheel\n",
      "notebook                      6.5.2        7.0.3        wheel\n",
      "notebook_shim                 0.2.2        0.2.3        wheel\n",
      "numba                         0.56.0       0.57.1       wheel\n",
      "numexpr                       2.8.4        2.8.5        wheel\n",
      "numpy                         1.23.1       1.25.2       wheel\n",
      "openpyxl                      3.0.10       3.1.2        wheel\n",
      "packaging                     21.3         23.1         wheel\n",
      "pandas                        1.5.3        2.1.0        wheel\n",
      "panel                         0.14.3       1.2.2        wheel\n",
      "param                         1.12.3       1.13.0       wheel\n",
      "paramiko                      2.8.1        3.3.1        wheel\n",
      "parsel                        1.6.0        1.8.1        wheel\n",
      "partd                         1.2.0        1.4.0        wheel\n",
      "pathspec                      0.10.3       0.11.2       wheel\n",
      "Pillow                        9.4.0        10.0.0       wheel\n",
      "pip                           22.3.1       23.2.1       wheel\n",
      "platformdirs                  2.5.2        3.10.0       wheel\n",
      "plotly                        5.9.0        5.16.1       wheel\n",
      "pluggy                        1.0.0        1.3.0        wheel\n",
      "pooch                         1.6.0        1.7.0        wheel\n",
      "prometheus-client             0.14.1       0.17.1       wheel\n",
      "prompt-toolkit                3.0.36       3.0.39       wheel\n",
      "Protego                       0.1.16       0.3.0        wheel\n",
      "psutil                        5.9.0        5.9.5        wheel\n",
      "pyasn1                        0.4.8        0.5.0        wheel\n",
      "pyasn1-modules                0.2.8        0.3.0        wheel\n",
      "pycodestyle                   2.10.0       2.11.0       wheel\n",
      "pycurl                        7.45.1       7.45.2       sdist\n",
      "PyDispatcher                  2.0.5        2.0.7        wheel\n",
      "pyerfa                        2.0.0        2.0.0.3      wheel\n",
      "pyflakes                      3.0.1        3.1.0        wheel\n",
      "Pygments                      2.11.2       2.16.1       wheel\n",
      "PyHamcrest                    2.0.2        2.0.4        wheel\n",
      "PyJWT                         2.4.0        2.8.0        wheel\n",
      "pylint                        2.16.2       2.17.5       wheel\n",
      "pylint-venv                   2.3.0        3.0.2        wheel\n",
      "pyodbc                        4.0.34       4.0.39       wheel\n",
      "pyOpenSSL                     23.0.0       23.2.0       wheel\n",
      "pyparsing                     3.0.9        3.1.1        wheel\n",
      "PyQt5                         5.15.7       5.15.9       wheel\n",
      "PyQt5-sip                     12.11.0      12.12.2      wheel\n",
      "PyQtWebEngine                 5.15.4       5.15.6       wheel\n",
      "pyrsistent                    0.18.0       0.19.3       wheel\n",
      "pytest                        7.1.2        7.4.1        wheel\n",
      "python-lsp-black              1.2.1        1.3.0        wheel\n",
      "python-lsp-server             1.7.1        1.7.4        wheel\n",
      "python-slugify                5.0.2        8.0.1        wheel\n",
      "pytz                          2022.7       2023.3.post1 wheel\n",
      "pyviz-comms                   2.0.2        3.0.0        wheel\n",
      "pywin32                       305.1        306          wheel\n",
      "pywin32-ctypes                0.2.0        0.2.2        wheel\n",
      "pywinpty                      2.0.10       2.0.11       wheel\n",
      "PyYAML                        6.0          6.0.1        wheel\n",
      "pyzmq                         23.2.0       25.1.1       wheel\n",
      "QDarkStyle                    3.0.2        3.1          wheel\n",
      "QtAwesome                     1.2.2        1.2.3        wheel\n",
      "qtconsole                     5.4.0        5.4.4        wheel\n",
      "QtPy                          2.2.0        2.4.0        wheel\n",
      "queuelib                      1.5.0        1.6.2        wheel\n",
      "regex                         2022.7.9     2023.8.8     wheel\n",
      "requests                      2.28.1       2.31.0       wheel\n",
      "requests-toolbelt             0.9.1        1.0.0        wheel\n",
      "resampy                       0.3.1        0.4.2        wheel\n",
      "rope                          1.7.0        1.9.0        wheel\n",
      "ruamel.yaml                   0.17.21      0.17.32      wheel\n",
      "ruamel.yaml.clib              0.2.6        0.2.7        wheel\n",
      "scikit-image                  0.19.3       0.21.0       wheel\n",
      "scikit-learn                  1.1.1        1.3.0        wheel\n",
      "scipy                         1.9.0        1.11.2       wheel\n",
      "Scrapy                        2.8.0        2.10.1       wheel\n",
      "Send2Trash                    1.8.0        1.8.2        wheel\n",
      "service-identity              18.1.0       23.1.0       wheel\n",
      "setuptools                    65.6.3       68.1.2       wheel\n",
      "sip                           6.6.2        6.7.11       wheel\n",
      "smart-open                    5.2.1        6.3.0        wheel\n",
      "sniffio                       1.2.0        1.3.0        wheel\n",
      "SoundFile                     0.10.3.post1 0.12.1       wheel\n",
      "soupsieve                     2.3.2.post1  2.5          wheel\n",
      "Sphinx                        5.0.2        7.2.5        wheel\n",
      "sphinxcontrib-applehelp       1.0.2        1.0.7        wheel\n",
      "sphinxcontrib-devhelp         1.0.2        1.0.5        wheel\n",
      "sphinxcontrib-htmlhelp        2.0.0        2.0.4        wheel\n",
      "sphinxcontrib-qthelp          1.0.3        1.0.6        wheel\n",
      "sphinxcontrib-serializinghtml 1.1.5        1.1.9        wheel\n",
      "spyder                        5.4.1        5.4.5        wheel\n",
      "spyder-kernels                2.4.1        2.4.4        wheel\n",
      "SQLAlchemy                    1.4.39       2.0.20       wheel\n",
      "stack-data                    0.2.0        0.6.2        wheel\n",
      "statsmodels                   0.13.5       0.14.0       wheel\n",
      "sympy                         1.11.1       1.12         wheel\n",
      "tables                        3.7.0        3.8.0        wheel\n",
      "tabulate                      0.8.10       0.9.0        wheel\n",
      "TBB                           0.2          2021.10.0    wheel\n",
      "tblib                         1.7.0        2.0.0        wheel\n",
      "tenacity                      8.0.1        8.2.3        wheel\n",
      "textdistance                  4.2.1        4.5.0        wheel\n",
      "threadpoolctl                 3.1.0        3.2.0        wheel\n",
      "tifffile                      2021.7.2     2023.8.30    wheel\n",
      "tldextract                    3.2.0        3.4.4        wheel\n",
      "tokenizers                    0.11.4       0.13.3       wheel\n",
      "tomlkit                       0.11.1       0.12.1       wheel\n",
      "torch                         1.12.1       2.0.1        wheel\n",
      "tornado                       6.1          6.3.3        wheel\n",
      "tqdm                          4.64.1       4.66.1       wheel\n",
      "traitlets                     5.7.1        5.9.0        wheel\n",
      "transformers                  4.24.0       4.33.0       wheel\n",
      "Twisted                       22.2.0       23.8.0       wheel\n",
      "twisted-iocpsupport           1.0.2        1.0.4        wheel\n",
      "typing_extensions             4.4.0        4.7.1        wheel\n",
      "ujson                         5.4.0        5.8.0        wheel\n",
      "Unidecode                     1.2.0        1.3.6        wheel\n",
      "urllib3                       1.26.11      2.0.4        wheel\n",
      "w3lib                         1.21.0       2.1.2        wheel\n",
      "watchdog                      2.1.6        3.0.0        wheel\n",
      "wcwidth                       0.2.5        0.2.6        wheel\n",
      "websocket-client              0.58.0       1.6.2        wheel\n",
      "Werkzeug                      2.2.2        2.3.7        wheel\n",
      "whatthepatch                  1.0.2        1.0.5        wheel\n",
      "wheel                         0.38.4       0.41.2       wheel\n",
      "widgetsnbextension            3.5.2        4.0.8        wheel\n",
      "wrapt                         1.14.1       1.15.0       wheel\n",
      "xarray                        2022.11.0    2023.8.0     wheel\n",
      "xlwings                       0.29.1       0.30.11      wheel\n",
      "yapf                          0.31.0       0.40.1       wheel\n",
      "zict                          2.1.0        3.0.0        wheel\n",
      "zipp                          3.11.0       3.16.2       wheel\n",
      "zope.interface                5.4.0        6.0          wheel\n",
      "zstandard                     0.19.0       0.21.0       wheel\n"
     ]
    }
   ],
   "source": [
    "!pip list -o"
   ]
  },
  {
   "cell_type": "code",
   "execution_count": 1,
   "id": "4bef6fbd",
   "metadata": {},
   "outputs": [
    {
     "name": "stdout",
     "output_type": "stream",
     "text": [
      "Requirement already satisfied: scikit-learn in c:\\users\\astha jha\\appdata\\roaming\\python\\python310\\site-packages (1.1.1)\n",
      "Collecting scikit-learn\n",
      "  Using cached scikit_learn-1.3.0-cp310-cp310-win_amd64.whl (9.2 MB)\n",
      "Collecting joblib>=1.1.1\n",
      "  Using cached joblib-1.3.2-py3-none-any.whl (302 kB)\n",
      "Requirement already satisfied: numpy>=1.17.3 in c:\\users\\astha jha\\appdata\\roaming\\python\\python310\\site-packages (from scikit-learn) (1.23.1)\n",
      "Requirement already satisfied: threadpoolctl>=2.0.0 in c:\\users\\astha jha\\appdata\\roaming\\python\\python310\\site-packages (from scikit-learn) (3.1.0)\n",
      "Requirement already satisfied: scipy>=1.5.0 in c:\\users\\astha jha\\appdata\\roaming\\python\\python310\\site-packages (from scikit-learn) (1.9.0)\n"
     ]
    },
    {
     "name": "stderr",
     "output_type": "stream",
     "text": [
      "ERROR: Could not install packages due to an OSError: [Errno 2] No such file or directory: 'c:\\\\users\\\\astha jha\\\\appdata\\\\roaming\\\\python\\\\python310\\\\site-packages\\\\numpy-1.23.1.dist-info\\\\METADATA'\n",
      "\n"
     ]
    }
   ],
   "source": [
    "!pip install --upgrade scikit-learn\n"
   ]
  },
  {
   "cell_type": "code",
   "execution_count": null,
   "id": "ef59539d",
   "metadata": {},
   "outputs": [],
   "source": [
    "import numpy as np\n",
    "import pandas as pd\n",
    "import matplotlib.pyplot as plt\n",
    "import seaborn as sns\n"
   ]
  },
  {
   "cell_type": "code",
   "execution_count": null,
   "id": "6c5d8363",
   "metadata": {},
   "outputs": [],
   "source": [
    "data=pd.read_csv(\"Bengaluru_House_Data.csv\")"
   ]
  },
  {
   "cell_type": "markdown",
   "id": "17882f1c",
   "metadata": {},
   "source": [
    "#EDA"
   ]
  },
  {
   "cell_type": "code",
   "execution_count": null,
   "id": "420c7be7",
   "metadata": {},
   "outputs": [],
   "source": [
    "data.head()"
   ]
  },
  {
   "cell_type": "code",
   "execution_count": null,
   "id": "26f35f16",
   "metadata": {},
   "outputs": [],
   "source": [
    "data.info()"
   ]
  },
  {
   "cell_type": "code",
   "execution_count": null,
   "id": "407822a3",
   "metadata": {},
   "outputs": [],
   "source": [
    "data.shape"
   ]
  },
  {
   "cell_type": "code",
   "execution_count": null,
   "id": "1060471f",
   "metadata": {},
   "outputs": [],
   "source": [
    "data.describe()"
   ]
  },
  {
   "cell_type": "code",
   "execution_count": null,
   "id": "5825296d",
   "metadata": {},
   "outputs": [],
   "source": [
    "data[\"area_type\"].nunique() #4\n",
    "data[\"area_type\"].unique()"
   ]
  },
  {
   "cell_type": "code",
   "execution_count": null,
   "id": "6ef05287",
   "metadata": {},
   "outputs": [],
   "source": [
    "data[\"availability\"].nunique()"
   ]
  },
  {
   "cell_type": "code",
   "execution_count": null,
   "id": "2c5b3333",
   "metadata": {},
   "outputs": [],
   "source": [
    "data[\"location\"].nunique()"
   ]
  },
  {
   "cell_type": "code",
   "execution_count": null,
   "id": "4526e2a1",
   "metadata": {},
   "outputs": [],
   "source": [
    "data[\"size\"].nunique()"
   ]
  },
  {
   "cell_type": "code",
   "execution_count": null,
   "id": "54a5e806",
   "metadata": {},
   "outputs": [],
   "source": [
    "for column in data.columns:\n",
    "    print(data[column].value_counts())\n",
    "    print(\"*\"*20)"
   ]
  },
  {
   "cell_type": "code",
   "execution_count": null,
   "id": "ca4b76e1",
   "metadata": {},
   "outputs": [],
   "source": [
    "data.isna().sum()"
   ]
  },
  {
   "cell_type": "code",
   "execution_count": null,
   "id": "a1fcfa3d",
   "metadata": {},
   "outputs": [],
   "source": [
    "\n",
    "range_pattern = r'^\\d+-\\d+$'\n",
    "\n",
    "# Check if any value in the column matches the range pattern\n",
    "contains_range = data['total_sqft'].str.match(range_pattern).any()\n",
    "\n",
    "if contains_range:\n",
    "    print(\"The column contains at least one range value.\")\n",
    "else:\n",
    "    print(\"The column does not contain any range values.\")\n"
   ]
  },
  {
   "cell_type": "code",
   "execution_count": null,
   "id": "dc070be1",
   "metadata": {},
   "outputs": [],
   "source": [
    "data['total_sqft'] = pd.to_numeric(data['total_sqft'], errors='coerce', downcast='float')\n",
    "#convert str to float\n",
    "data['total_sqft'].head()\n"
   ]
  },
  {
   "cell_type": "code",
   "execution_count": null,
   "id": "734e2e45",
   "metadata": {},
   "outputs": [],
   "source": [
    "#data.drop(columns=['availability','society'],inplace=True)\n",
    "#from sklearn.preprocessing import OrdinalEncoder,LabelEncoder\n",
    "#le = LabelEncoder()\n",
    "#data['society'] = le.fit_transform(data['society'])"
   ]
  },
  {
   "cell_type": "code",
   "execution_count": null,
   "id": "c282a3cb",
   "metadata": {},
   "outputs": [],
   "source": [
    "#data.head()"
   ]
  },
  {
   "cell_type": "code",
   "execution_count": null,
   "id": "1820780a",
   "metadata": {},
   "outputs": [],
   "source": [
    "#inputval = data['area_type'].values.reshape(-1,1)"
   ]
  },
  {
   "cell_type": "code",
   "execution_count": null,
   "id": "cfe5a841",
   "metadata": {},
   "outputs": [],
   "source": [
    "#oe = OrdinalEncoder(categories=[['Super built-up  Area','Built-up  Area','Plot  Area','Carpet  Area']])\n",
    "#data['labelled_areatype'] = oe.fit_transform(inputval)\n",
    "#data.head()"
   ]
  },
  {
   "cell_type": "code",
   "execution_count": null,
   "id": "2d787f95",
   "metadata": {},
   "outputs": [],
   "source": [
    "#data['total_sqft'].head()"
   ]
  },
  {
   "cell_type": "code",
   "execution_count": null,
   "id": "dd380902",
   "metadata": {},
   "outputs": [],
   "source": [
    "data['bedrooms'] = data['size'].str.extract('(\\d+)').astype(float)"
   ]
  },
  {
   "cell_type": "code",
   "execution_count": null,
   "id": "3745669f",
   "metadata": {},
   "outputs": [],
   "source": [
    "data.isnull().sum()"
   ]
  },
  {
   "cell_type": "code",
   "execution_count": null,
   "id": "a811cf79",
   "metadata": {},
   "outputs": [],
   "source": [
    "data['bedrooms'].head()"
   ]
  },
  {
   "cell_type": "code",
   "execution_count": null,
   "id": "76b8a747",
   "metadata": {},
   "outputs": [],
   "source": [
    "data['bedrooms'] = data['bedrooms'].fillna(data['bedrooms'].mean().round().astype(float))\n",
    "data['balcony'] = data['balcony'].fillna(data['balcony'].mean().round().astype(float))\n",
    "data['total_sqft'] = data['total_sqft'].fillna(data['total_sqft'].mean())\n",
    "data['bath'] = data['bath'].fillna(data['bath'].mean().round().astype(float))\n",
    "data['location']=data['location'].fillna('Whitefield')"
   ]
  },
  {
   "cell_type": "code",
   "execution_count": null,
   "id": "fe2815a4",
   "metadata": {},
   "outputs": [],
   "source": [
    "data['balcony'].value_counts()"
   ]
  },
  {
   "cell_type": "code",
   "execution_count": null,
   "id": "a4abdaec",
   "metadata": {},
   "outputs": [],
   "source": [
    "sns.pairplot(data,hue='price')"
   ]
  },
  {
   "cell_type": "code",
   "execution_count": null,
   "id": "1feb0267",
   "metadata": {},
   "outputs": [],
   "source": [
    "sns.scatterplot(x=data['total_sqft'],y=data['price'],hue=data['area_type'])"
   ]
  },
  {
   "cell_type": "markdown",
   "id": "91376b0d",
   "metadata": {},
   "source": [
    "we notice ..few data points where total_sqft is more but the price is insignificanctly less which doesnt make any sense .we treat them as outliers"
   ]
  },
  {
   "cell_type": "code",
   "execution_count": null,
   "id": "36acaff6",
   "metadata": {},
   "outputs": [],
   "source": [
    "sns.scatterplot(x=data['bedrooms'],y=data['price'])"
   ]
  },
  {
   "cell_type": "code",
   "execution_count": null,
   "id": "b81db196",
   "metadata": {},
   "outputs": [],
   "source": [
    "sns.scatterplot(x=data['area_type'],y=data['price'])"
   ]
  },
  {
   "cell_type": "code",
   "execution_count": null,
   "id": "e673e050",
   "metadata": {},
   "outputs": [],
   "source": [
    "data.isna().sum()"
   ]
  },
  {
   "cell_type": "code",
   "execution_count": null,
   "id": "b993fc1c",
   "metadata": {},
   "outputs": [],
   "source": [
    "\n",
    "\n",
    "# Filter rows where 'total_swft' is greater than 15000 and less than 300\n",
    "filtered_indices = data[(data['total_sqft'] > 15000) | (data['total_sqft'] < 300)].index\n",
    "\n",
    "# Drop the filtered rows from the DataFrame\n",
    "data.drop(filtered_indices, inplace=True)\n",
    "\n",
    "# Reset the index if needed\n",
    "#housing_data.reset_index(drop=True, inplace=True)\n"
   ]
  },
  {
   "cell_type": "code",
   "execution_count": null,
   "id": "89560bfc",
   "metadata": {},
   "outputs": [],
   "source": [
    "print(filtered_indices)"
   ]
  },
  {
   "cell_type": "code",
   "execution_count": null,
   "id": "d4df1f06",
   "metadata": {},
   "outputs": [],
   "source": [
    "sns.scatterplot(x=data['total_sqft'],y=data['price'],hue=data['area_type'])"
   ]
  },
  {
   "cell_type": "code",
   "execution_count": null,
   "id": "21d76039",
   "metadata": {},
   "outputs": [],
   "source": [
    "sns.scatterplot(x=data['bedrooms'],y=data['price'],hue=data['area_type'])"
   ]
  },
  {
   "cell_type": "code",
   "execution_count": null,
   "id": "290fae91",
   "metadata": {},
   "outputs": [],
   "source": [
    "sns.scatterplot(x=data['bath'],y=data['price'],hue=data['area_type'])"
   ]
  },
  {
   "cell_type": "code",
   "execution_count": null,
   "id": "69d4e433",
   "metadata": {},
   "outputs": [],
   "source": [
    "sns.scatterplot(x=data['balcony'],y=data['price'],hue=data['area_type'])"
   ]
  },
  {
   "cell_type": "code",
   "execution_count": null,
   "id": "ab0b1b61",
   "metadata": {},
   "outputs": [],
   "source": [
    "data.info()"
   ]
  },
  {
   "cell_type": "code",
   "execution_count": null,
   "id": "b0516e85",
   "metadata": {},
   "outputs": [],
   "source": [
    "columns_to_check = ['bath', 'bedrooms','size']\n",
    "data.dropna(subset=columns_to_check, inplace=True)"
   ]
  },
  {
   "cell_type": "code",
   "execution_count": null,
   "id": "0a34f482",
   "metadata": {},
   "outputs": [],
   "source": [
    "data.isna().sum()"
   ]
  },
  {
   "cell_type": "code",
   "execution_count": null,
   "id": "c7925b22",
   "metadata": {},
   "outputs": [],
   "source": [
    "filtered_indices1 = data[(data['bath'] > 15)].index\n",
    "\n",
    "# Drop the filtered rows from the DataFrame\n",
    "data.drop(filtered_indices1, inplace=True)"
   ]
  },
  {
   "cell_type": "code",
   "execution_count": null,
   "id": "3265d1e2",
   "metadata": {},
   "outputs": [],
   "source": [
    "data['bedrooms'].value_counts()"
   ]
  },
  {
   "cell_type": "code",
   "execution_count": null,
   "id": "a2667cad",
   "metadata": {},
   "outputs": [],
   "source": [
    "sns.boxplot(x=data['total_sqft'],y=data['price'])"
   ]
  },
  {
   "cell_type": "code",
   "execution_count": null,
   "id": "d76e8513",
   "metadata": {},
   "outputs": [],
   "source": [
    "data['location'] = data['location'].apply(lambda x:x.strip())\n",
    "location_count = data['location'].value_counts()\n",
    "location_count_less_10 = location_count[location_count<=10]\n",
    "data['location'] = data['location'].apply(lambda x: 'other' if x in location_count_less_10 else x)"
   ]
  },
  {
   "cell_type": "code",
   "execution_count": null,
   "id": "279cb7ab",
   "metadata": {},
   "outputs": [],
   "source": [
    "data['location'].value_counts()"
   ]
  },
  {
   "cell_type": "code",
   "execution_count": null,
   "id": "c346d13d",
   "metadata": {},
   "outputs": [],
   "source": [
    "(data['total_sqft']/data['bedrooms']).describe()"
   ]
  },
  {
   "cell_type": "code",
   "execution_count": null,
   "id": "777b967a",
   "metadata": {},
   "outputs": [],
   "source": [
    "data['price_per_sqft']=data['price']*100000/data['total_sqft']\n",
    "def remove_outliers_sqft(data):\n",
    "    df_output = pd.DataFrame()\n",
    "    for key, subdf in data.groupby('location'):\n",
    "        m=np.mean(subdf.price_per_sqft)\n",
    "        st= np.std(subdf.price_per_sqft)\n",
    "        gen_df = subdf[(subdf.price_per_sqft > (m-st)) & (subdf.price_per_sqft <= (m+st))]\n",
    "        df_output = pd.concat([df_output, gen_df], ignore_index=True)\n",
    "    return df_output\n",
    "data= remove_outliers_sqft(data)\n",
    "data.describe()"
   ]
  },
  {
   "cell_type": "code",
   "execution_count": null,
   "id": "a631e871",
   "metadata": {},
   "outputs": [],
   "source": [
    "def bhk_outlier_remover(df):\n",
    "    exclude_indices = np.array([])\n",
    "    for location, location_df in data.groupby('location'):\n",
    "        bhk_stats= {}\n",
    "        for bhk, bhk_df in location_df.groupby('bedrooms'):\n",
    "            bhk_stats[bhk]= {\n",
    "                'mean': np.mean(bhk_df.price_per_sqft),\n",
    "                'std': np.std(bhk_df.price_per_sqft),\n",
    "                'count':bhk_df.shape[0]\n",
    "            }\n",
    "        for bhk, bhk_df in location_df.groupby('bedrooms'):\n",
    "            stats = bhk_stats.get(bhk-1)\n",
    "            if stats and stats['count']>5:\n",
    "                exclude_indices =np.append(exclude_indices, bhk_df[bhk_df.price_per_sqft<(stats['mean'])].index.values)            \n",
    "    return df.drop(exclude_indices, axis='index')"
   ]
  },
  {
   "cell_type": "code",
   "execution_count": null,
   "id": "4f46fbc6",
   "metadata": {},
   "outputs": [],
   "source": [
    "data=bhk_outlier_remover(data)"
   ]
  },
  {
   "cell_type": "code",
   "execution_count": null,
   "id": "f8edd267",
   "metadata": {},
   "outputs": [],
   "source": [
    "data"
   ]
  },
  {
   "cell_type": "code",
   "execution_count": null,
   "id": "741c5414",
   "metadata": {},
   "outputs": [],
   "source": [
    "data.drop(columns=['size', 'price_per_sqft'], inplace=True)\n"
   ]
  },
  {
   "cell_type": "code",
   "execution_count": null,
   "id": "c95adae5",
   "metadata": {},
   "outputs": [],
   "source": [
    "data.shape"
   ]
  },
  {
   "cell_type": "code",
   "execution_count": null,
   "id": "a2c6f483",
   "metadata": {},
   "outputs": [],
   "source": [
    "data.to_csv(\"Cleaned_data.csv\")"
   ]
  },
  {
   "cell_type": "code",
   "execution_count": null,
   "id": "a522a172",
   "metadata": {},
   "outputs": [],
   "source": [
    "X=data.drop(columns=['area_type','availability','society','price'])\n",
    "y=data['price']"
   ]
  },
  {
   "cell_type": "code",
   "execution_count": null,
   "id": "6bb7b6b2",
   "metadata": {},
   "outputs": [],
   "source": [
    "X"
   ]
  },
  {
   "cell_type": "code",
   "execution_count": null,
   "id": "64ad8935",
   "metadata": {},
   "outputs": [],
   "source": [
    "from sklearn.model_selection import train_test_split\n",
    "from sklearn.linear_model import LinearRegression,Lasso,Ridge\n",
    "from sklearn.preprocessing import OneHotEncoder,StandardScaler\n",
    "from sklearn.compose import make_column_transformer\n",
    "from sklearn.pipeline import make_pipeline\n",
    "from sklearn.metrics import r2_score"
   ]
  },
  {
   "cell_type": "code",
   "execution_count": null,
   "id": "1e1d7eac",
   "metadata": {},
   "outputs": [],
   "source": [
    "X_train,X_test,y_train,y_test=train_test_split(X,y,test_size=0.3,random_state=42)"
   ]
  },
  {
   "cell_type": "code",
   "execution_count": null,
   "id": "c7c48c64",
   "metadata": {},
   "outputs": [],
   "source": [
    "column_trans =make_column_transformer((OneHotEncoder(sparse=False), ['location']), remainder='passthrough')"
   ]
  },
  {
   "cell_type": "code",
   "execution_count": null,
   "id": "2d88d20c",
   "metadata": {},
   "outputs": [],
   "source": [
    "scaler=StandardScaler()"
   ]
  },
  {
   "cell_type": "code",
   "execution_count": null,
   "id": "6105cb71",
   "metadata": {},
   "outputs": [],
   "source": [
    "lr = LinearRegression(normalize=True)"
   ]
  },
  {
   "cell_type": "code",
   "execution_count": null,
   "id": "13fe354a",
   "metadata": {},
   "outputs": [],
   "source": [
    "pipe =make_pipeline(column_trans, scaler, lr)"
   ]
  },
  {
   "cell_type": "code",
   "execution_count": null,
   "id": "3cc273a1",
   "metadata": {},
   "outputs": [],
   "source": [
    "pipe.fit(X_train,y_train)"
   ]
  },
  {
   "cell_type": "code",
   "execution_count": null,
   "id": "d9ada32a",
   "metadata": {},
   "outputs": [],
   "source": [
    "y_pred_lr=pipe.predict(X_test)"
   ]
  },
  {
   "cell_type": "code",
   "execution_count": null,
   "id": "075b0f40",
   "metadata": {},
   "outputs": [],
   "source": [
    "r2_score(y_test,y_pred_lr)"
   ]
  },
  {
   "cell_type": "code",
   "execution_count": null,
   "id": "0577154f",
   "metadata": {},
   "outputs": [],
   "source": []
  },
  {
   "cell_type": "code",
   "execution_count": null,
   "id": "e70b8d84",
   "metadata": {},
   "outputs": [],
   "source": [
    "plt.scatter(y_test,y_pred_lr)"
   ]
  },
  {
   "cell_type": "code",
   "execution_count": null,
   "id": "a64723d6",
   "metadata": {},
   "outputs": [],
   "source": [
    "lasso= Lasso()\n",
    "pipe = make_pipeline(column_trans, scaler, lasso)\n",
    "pipe.fit(X_train, y_train)\n",
    "y_pred_lasso = pipe.predict(X_test)\n",
    "r2_score(y_test, y_pred_lasso)"
   ]
  },
  {
   "cell_type": "code",
   "execution_count": null,
   "id": "c3c995b2",
   "metadata": {},
   "outputs": [],
   "source": [
    "ridge = Ridge()\n",
    "pipe = make_pipeline(column_trans, scaler, ridge)\n",
    "pipe.fit(X_train, y_train)\n",
    "y_pred_ridge = pipe.predict(X_test)\n",
    "r2_score(y_test, y_pred_ridge)"
   ]
  },
  {
   "cell_type": "code",
   "execution_count": null,
   "id": "44e568a0",
   "metadata": {},
   "outputs": [],
   "source": [
    "from sklearn.neighbors import KNeighborsRegressor\n",
    "knn = KNeighborsRegressor(n_neighbors=3)\n",
    "\n",
    "pipe = make_pipeline(column_trans, scaler,knn)\n",
    "pipe.fit(X_train,y_train)\n",
    "\n",
    "y_pred = pipe.predict(X_test)\n",
    "\n",
    "print('R2 score',r2_score(y_test,y_pred))\n"
   ]
  },
  {
   "cell_type": "code",
   "execution_count": null,
   "id": "a295f29a",
   "metadata": {},
   "outputs": [],
   "source": [
    "from sklearn.tree import DecisionTreeRegressor\n",
    "from sklearn.metrics import r2_score,mean_absolute_error\n",
    "dt= DecisionTreeRegressor(max_depth=8)\n",
    "\n",
    "pipe = make_pipeline(column_trans, scaler,dt)\n",
    "pipe.fit(X_train,y_train)\n",
    "\n",
    "y_pred = pipe.predict(X_test)\n",
    "\n",
    "print('R2 score',r2_score(y_test,y_pred))\n",
    "\n"
   ]
  },
  {
   "cell_type": "code",
   "execution_count": null,
   "id": "53cfb188",
   "metadata": {},
   "outputs": [],
   "source": [
    "from sklearn.ensemble import RandomForestRegressor,GradientBoostingRegressor,AdaBoostRegressor,ExtraTreesRegressor\n",
    "from sklearn.svm import SVR\n"
   ]
  },
  {
   "cell_type": "code",
   "execution_count": null,
   "id": "eddcf672",
   "metadata": {},
   "outputs": [],
   "source": [
    "\n",
    "rf= RandomForestRegressor(n_estimators=100,\n",
    "                              random_state=3,\n",
    "                              max_samples=0.5,\n",
    "                              max_features=0.75,\n",
    "                              max_depth=15)\n",
    "\n",
    "pipe = make_pipeline(column_trans, scaler,rf)\n",
    "\n",
    "pipe.fit(X_train,y_train)\n",
    "\n",
    "y_pred = pipe.predict(X_test)\n",
    "\n",
    "print('R2 score',r2_score(y_test,y_pred))\n"
   ]
  },
  {
   "cell_type": "code",
   "execution_count": null,
   "id": "2181410b",
   "metadata": {},
   "outputs": [],
   "source": [
    "\n",
    "ada= AdaBoostRegressor(n_estimators=15,learning_rate=1.0)\n",
    "\n",
    "pipe = make_pipeline(column_trans, scaler,ada)\n",
    "pipe.fit(X_train,y_train)\n",
    "\n",
    "y_pred = pipe.predict(X_test)\n",
    "\n",
    "print('R2 score',r2_score(y_test,y_pred))\n"
   ]
  },
  {
   "cell_type": "code",
   "execution_count": null,
   "id": "8e06aae2",
   "metadata": {},
   "outputs": [],
   "source": [
    "\n",
    "gb = GradientBoostingRegressor(n_estimators=500)\n",
    "\n",
    "pipe = make_pipeline(column_trans, scaler,gb)\n",
    "pipe.fit(X_train,y_train)\n",
    "\n",
    "y_pred = pipe.predict(X_test)\n",
    "\n",
    "print('R2 score',r2_score(y_test,y_pred))\n"
   ]
  },
  {
   "cell_type": "code",
   "execution_count": null,
   "id": "51664c0b",
   "metadata": {},
   "outputs": [],
   "source": [
    "ridge = Ridge()\n",
    "pipe = make_pipeline(column_trans, scaler, ridge)\n",
    "pipe.fit(X_train, y_train)\n",
    "y_pred_ridge = pipe.predict(X_test)\n",
    "r2_score(y_test, y_pred_ridge)"
   ]
  },
  {
   "cell_type": "code",
   "execution_count": null,
   "id": "18c953e5",
   "metadata": {},
   "outputs": [],
   "source": [
    "import pickle\n",
    "pickle.dump(pipe,open('Ridge.pkl','wb'))"
   ]
  },
  {
   "cell_type": "code",
   "execution_count": null,
   "id": "8b849822",
   "metadata": {},
   "outputs": [],
   "source": [
    "import sklearn\n",
    "print(sklearn.__version__)"
   ]
  },
  {
   "cell_type": "code",
   "execution_count": null,
   "id": "3190839f",
   "metadata": {},
   "outputs": [],
   "source": [
    "!pip install --upgrade scikit-learn\n"
   ]
  },
  {
   "cell_type": "code",
   "execution_count": null,
   "id": "5d40ccc8",
   "metadata": {},
   "outputs": [],
   "source": [
    "import sklearn\n",
    "print(sklearn.__version__)"
   ]
  },
  {
   "cell_type": "code",
   "execution_count": null,
   "id": "2961b07d",
   "metadata": {},
   "outputs": [],
   "source": [
    "!pip list \n"
   ]
  },
  {
   "cell_type": "code",
   "execution_count": null,
   "id": "97cbda34",
   "metadata": {},
   "outputs": [],
   "source": [
    "!pip install --upgrade scikit-learn"
   ]
  },
  {
   "cell_type": "code",
   "execution_count": null,
   "id": "1695da36",
   "metadata": {},
   "outputs": [],
   "source": [
    "!pip install --upgrade numpy\n"
   ]
  },
  {
   "cell_type": "code",
   "execution_count": null,
   "id": "5948fb10",
   "metadata": {},
   "outputs": [],
   "source": [
    "pip install --force-reinstall --no-deps numpy==1.23.1\n"
   ]
  },
  {
   "cell_type": "code",
   "execution_count": null,
   "id": "e995c95f",
   "metadata": {},
   "outputs": [],
   "source": []
  }
 ],
 "metadata": {
  "kernelspec": {
   "display_name": "Python 3 (ipykernel)",
   "language": "python",
   "name": "python3"
  },
  "language_info": {
   "codemirror_mode": {
    "name": "ipython",
    "version": 3
   },
   "file_extension": ".py",
   "mimetype": "text/x-python",
   "name": "python",
   "nbconvert_exporter": "python",
   "pygments_lexer": "ipython3",
   "version": "3.10.9"
  }
 },
 "nbformat": 4,
 "nbformat_minor": 5
}
